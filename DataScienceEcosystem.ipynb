{
 "cells": [
  {
   "cell_type": "markdown",
   "id": "2c1b72ba-e0b0-4201-b43d-67a168b2e831",
   "metadata": {},
   "source": [
    "# Data Science Tools and Ecosystem"
   ]
  },
  {
   "cell_type": "markdown",
   "id": "7db669a1-d129-4696-84d4-bfd5aa00cbea",
   "metadata": {},
   "source": [
    "In this notebook, Data Science Tools and Ecosystem are summarized"
   ]
  },
  {
   "cell_type": "markdown",
   "id": "1e7b493a-1ce6-41f4-a447-8bff0e547d53",
   "metadata": {},
   "source": [
    "**Objectives:**\n",
    "- List popular languajes for Data Science\n",
    "- List commonly used libraries for Data Science\n",
    "- List popular Data Science Tools\n",
    "- Evaluate arithmetic expressions in Python\n",
    "- Run both markdown and code cells"
   ]
  },
  {
   "cell_type": "markdown",
   "id": "05ed5a46-f1d0-42a3-9c48-26ae57e811c1",
   "metadata": {},
   "source": [
    "#### Some of the popular languages that Data Scientists use are:\n",
    "1. Python\n",
    "2. R\n",
    "3. SQL"
   ]
  },
  {
   "cell_type": "markdown",
   "id": "1227c078-9b50-4613-a822-c17ad0c3111c",
   "metadata": {},
   "source": [
    "#### Some of the commonly used libraries used by Data Scientists include:\n",
    "\n",
    "1. Pandas\n",
    "2. NumPy\n",
    "3. Matplotlib"
   ]
  },
  {
   "cell_type": "markdown",
   "id": "c670a2a3-354b-4105-88de-e4ecfd63429b",
   "metadata": {},
   "source": [
    "|Data Science Tools|\n",
    "|---------|\n",
    "|Jupyter Notebooks|\n",
    "|RStudio|\n",
    "|VS Code|"
   ]
  },
  {
   "cell_type": "markdown",
   "id": "c66fdb11-9fe2-4a7e-accd-b268075d7194",
   "metadata": {},
   "source": [
    "### Below are a few examples of evaluating arithmetic expressions in Python\n",
    "1+3 <br>\n",
    "4+5 <br>\n",
    "3+5"
   ]
  },
  {
   "cell_type": "code",
   "execution_count": 2,
   "id": "e452fc2c-df24-402e-a8f1-78eb8adfbb55",
   "metadata": {},
   "outputs": [
    {
     "data": {
      "text/plain": [
       "17"
      ]
     },
     "execution_count": 2,
     "metadata": {},
     "output_type": "execute_result"
    }
   ],
   "source": [
    "# This is a simple arithmetic expression to multiply then add integers\n",
    "(3*4)+5"
   ]
  },
  {
   "cell_type": "code",
   "execution_count": 3,
   "id": "c2dce9c8-eb28-43fb-aeef-419fd5d0e306",
   "metadata": {},
   "outputs": [
    {
     "data": {
      "text/plain": [
       "3.3333333333333335"
      ]
     },
     "execution_count": 3,
     "metadata": {},
     "output_type": "execute_result"
    }
   ],
   "source": [
    "# This will convert 200 minutes to hours by dividing by 60\n",
    "200/60"
   ]
  },
  {
   "cell_type": "markdown",
   "id": "97875224-5ef6-44e3-840d-1410d30c9832",
   "metadata": {},
   "source": [
    "## Author\n",
    "Maria Teresa Gómez Pérez"
   ]
  },
  {
   "cell_type": "code",
   "execution_count": null,
   "id": "afb6b926-f3e8-4af8-92c1-9d0036c810a2",
   "metadata": {},
   "outputs": [],
   "source": []
  }
 ],
 "metadata": {
  "kernelspec": {
   "display_name": "Python 3 (ipykernel)",
   "language": "python",
   "name": "python3"
  },
  "language_info": {
   "codemirror_mode": {
    "name": "ipython",
    "version": 3
   },
   "file_extension": ".py",
   "mimetype": "text/x-python",
   "name": "python",
   "nbconvert_exporter": "python",
   "pygments_lexer": "ipython3",
   "version": "3.9.13"
  }
 },
 "nbformat": 4,
 "nbformat_minor": 5
}
